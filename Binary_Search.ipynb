{
  "nbformat": 4,
  "nbformat_minor": 0,
  "metadata": {
    "colab": {
      "provenance": []
    },
    "kernelspec": {
      "name": "python3",
      "display_name": "Python 3"
    },
    "language_info": {
      "name": "python"
    }
  },
  "cells": [
    {
      "cell_type": "markdown",
      "source": [
        "# **Binary Search**\n",
        "*Binary search is a method to find a value in a sorted array by repeatedly dividing the array in half. It checks the middle element, and if it matches the target, it returns the index. If the target is smaller, it searches the left half, and if larger, the right half, until the value is found or not.*"
      ],
      "metadata": {
        "id": "Konk4Zfj9Bqk"
      }
    },
    {
      "cell_type": "code",
      "execution_count": 5,
      "metadata": {
        "id": "iy588v63wDUs"
      },
      "outputs": [],
      "source": [
        "def binary_search(arr, low, high, value):\n",
        "\n",
        "  if low <= high:\n",
        "\n",
        "    mid = (low + high)//2\n",
        "\n",
        "    if arr[mid] == value:\n",
        "      return f'{value} Found at {mid} position'\n",
        "    elif arr[mid] > value:\n",
        "      return binary_search(arr, low, mid - 1, value)\n",
        "    else:\n",
        "      return binary_search(arr, mid + 1, high, value)\n",
        "\n",
        "  else:\n",
        "    return f'{value} Not Found'\n"
      ]
    },
    {
      "cell_type": "code",
      "source": [
        "list = [12, 14, 16, 18, 20, 22, 24, 26, 28, 29]\n",
        "\n",
        "binary_search(list, 0, len(list) - 1, 24)"
      ],
      "metadata": {
        "colab": {
          "base_uri": "https://localhost:8080/"
        },
        "id": "Lp-DCnvM7bTU",
        "outputId": "37595504-e5c5-4699-8881-7429e913a912"
      },
      "execution_count": 6,
      "outputs": [
        {
          "output_type": "stream",
          "name": "stdout",
          "text": [
            "24 Found at 6 position\n"
          ]
        }
      ]
    },
    {
      "cell_type": "code",
      "source": [
        "binary_search(list, 0, len(list) - 1, 27)"
      ],
      "metadata": {
        "colab": {
          "base_uri": "https://localhost:8080/",
          "height": 36
        },
        "id": "PKzejk0Q7hkg",
        "outputId": "b64f1692-7894-48a8-d7ec-183787dd13c2"
      },
      "execution_count": 7,
      "outputs": [
        {
          "output_type": "execute_result",
          "data": {
            "text/plain": [
              "'27 Not Found'"
            ],
            "application/vnd.google.colaboratory.intrinsic+json": {
              "type": "string"
            }
          },
          "metadata": {},
          "execution_count": 7
        }
      ]
    }
  ]
}