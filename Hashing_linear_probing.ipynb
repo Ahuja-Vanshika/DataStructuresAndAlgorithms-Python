{
  "nbformat": 4,
  "nbformat_minor": 0,
  "metadata": {
    "colab": {
      "provenance": []
    },
    "kernelspec": {
      "name": "python3",
      "display_name": "Python 3"
    },
    "language_info": {
      "name": "python"
    }
  },
  "cells": [
    {
      "cell_type": "markdown",
      "source": [
        "# Implementing a custom hash table (dictionary) in Python to efficiently store key-value pairs.\n",
        "\n",
        "*The dictionary uses a hash function to compute the index where each key-value pair is stored. If a collision occurs (i.e., two keys produce the same hash), the code resolves this using **linear probing** (rehashing). The **put** method allows adding or updating key-value pairs, while the **get** method retrieves values by key. It also includes Python's special methods __getitem__ and __setitem__, enabling dictionary-like access using square brackets, as well as a string representation for easy display of the dictionary's contents.*\n",
        "\n",
        "\n",
        "\n",
        "\n",
        "\n",
        "\n"
      ],
      "metadata": {
        "id": "PEYp3Age1Wzu"
      }
    },
    {
      "cell_type": "code",
      "execution_count": 10,
      "metadata": {
        "id": "fEfRMpQr6ov7"
      },
      "outputs": [],
      "source": [
        "class dictionary:\n",
        "\n",
        "  def __init__(self, size):\n",
        "    self.size = size\n",
        "    self.slots = [None] * self.size\n",
        "    self.data = [None] * self.size\n",
        "\n",
        "\n",
        "  def put(self, key, value):\n",
        "    hash_value = self.hash_function(key)\n",
        "\n",
        "    if self.slots[hash_value] == None:\n",
        "      self.slots[hash_value] = key\n",
        "      self.data[hash_value] = value\n",
        "    else:\n",
        "      if self.slots[hash_value] == key:\n",
        "        self.data[hash_value] = value\n",
        "      else:\n",
        "        new_hash_value = self.rehash(hash_value)\n",
        "\n",
        "        while self.slots[new_hash_value] != None and self.slots[new_hash_value] != key:\n",
        "          new_hash_value = self.rehash(new_hash_value)\n",
        "\n",
        "        if self.slots[new_hash_value] == None:\n",
        "          self.slots[new_hash_value] = key\n",
        "          self.data[new_hash_value] = value\n",
        "        else:\n",
        "          self.data[new_hash_value] = value\n",
        "\n",
        "\n",
        "  def get(self, key):\n",
        "      start = self.hash_function(key)\n",
        "      current = start\n",
        "\n",
        "      while self.slots[current] != None:\n",
        "\n",
        "        if self.slots[current] == key:\n",
        "          return self.data[current]\n",
        "\n",
        "        current = self.rehash(current)\n",
        "\n",
        "        if current == start:\n",
        "          return \"Not found\"\n",
        "\n",
        "      return \"Not Found\"\n",
        "\n",
        "\n",
        "  def __setitem__(self, key, value):\n",
        "      self.put(key, value)\n",
        "\n",
        "\n",
        "  def __getitem__(self, key):\n",
        "      return self.get(key)\n",
        "\n",
        "\n",
        "  def __str__(self):\n",
        "\n",
        "      for i in range(len(self.slots)):\n",
        "        if self.slots[i] != None:\n",
        "          print(self.slots[i], \":\", self.data[i], end=\" \")\n",
        "\n",
        "      return \"\"\n",
        "\n",
        "\n",
        "  def rehash(self, old_hash):\n",
        "    return (old_hash + 1) % self.size\n",
        "\n",
        "\n",
        "  def hash_function(self, key):\n",
        "\n",
        "    return abs(hash(key)) % self.size"
      ]
    },
    {
      "cell_type": "code",
      "source": [
        "d1 = dictionary(3)"
      ],
      "metadata": {
        "id": "y2g6MALbd1_Y"
      },
      "execution_count": 11,
      "outputs": []
    },
    {
      "cell_type": "code",
      "source": [
        "print(d1.slots)\n",
        "print(d1.data)"
      ],
      "metadata": {
        "colab": {
          "base_uri": "https://localhost:8080/"
        },
        "id": "Ruy8aHKxd6xf",
        "outputId": "bb739d80-33ca-43d4-b39c-a52bc2692c49"
      },
      "execution_count": 12,
      "outputs": [
        {
          "output_type": "stream",
          "name": "stdout",
          "text": [
            "[None, None, None]\n",
            "[None, None, None]\n"
          ]
        }
      ]
    },
    {
      "cell_type": "code",
      "source": [
        "d1[\"Python\"] = 25           // d1.put('Python', 25)"
      ],
      "metadata": {
        "id": "pO_L3ZRLicXA"
      },
      "execution_count": 13,
      "outputs": []
    },
    {
      "cell_type": "code",
      "source": [
        "d1[\"Apple\"] = 50"
      ],
      "metadata": {
        "id": "WDgkvJSiihro"
      },
      "execution_count": 14,
      "outputs": []
    },
    {
      "cell_type": "code",
      "source": [
        "print(d1)"
      ],
      "metadata": {
        "colab": {
          "base_uri": "https://localhost:8080/"
        },
        "id": "Tb-nA2k6mn_L",
        "outputId": "7beab840-7b74-463e-f0ff-84ec7a9ae617"
      },
      "execution_count": 15,
      "outputs": [
        {
          "output_type": "stream",
          "name": "stdout",
          "text": [
            "Apple : 50 Python : 25 \n"
          ]
        }
      ]
    },
    {
      "cell_type": "code",
      "source": [
        "d1[\"Banana\"] = 10"
      ],
      "metadata": {
        "id": "bBv7bF0dvf7E"
      },
      "execution_count": 16,
      "outputs": []
    },
    {
      "cell_type": "code",
      "source": [
        "d1[\"Python\"]"
      ],
      "metadata": {
        "colab": {
          "base_uri": "https://localhost:8080/"
        },
        "id": "7lxFdmMovjD6",
        "outputId": "ef56c243-07f6-441a-805e-86e769c4343e"
      },
      "execution_count": 17,
      "outputs": [
        {
          "output_type": "execute_result",
          "data": {
            "text/plain": [
              "25"
            ]
          },
          "metadata": {},
          "execution_count": 17
        }
      ]
    },
    {
      "cell_type": "code",
      "source": [
        "d1[\"Java\"]"
      ],
      "metadata": {
        "colab": {
          "base_uri": "https://localhost:8080/",
          "height": 36
        },
        "id": "d-4V8M70v2eE",
        "outputId": "5262cb30-0374-46e7-ea33-5e00461a1d71"
      },
      "execution_count": 18,
      "outputs": [
        {
          "output_type": "execute_result",
          "data": {
            "text/plain": [
              "'Not found'"
            ],
            "application/vnd.google.colaboratory.intrinsic+json": {
              "type": "string"
            }
          },
          "metadata": {},
          "execution_count": 18
        }
      ]
    }
  ]
}