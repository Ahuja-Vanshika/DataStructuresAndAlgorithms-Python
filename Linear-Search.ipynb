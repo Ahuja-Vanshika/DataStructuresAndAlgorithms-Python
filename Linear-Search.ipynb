{
  "nbformat": 4,
  "nbformat_minor": 0,
  "metadata": {
    "colab": {
      "provenance": []
    },
    "kernelspec": {
      "name": "python3",
      "display_name": "Python 3"
    },
    "language_info": {
      "name": "python"
    }
  },
  "cells": [
    {
      "cell_type": "markdown",
      "source": [
        "# **Linear Search (also called Brute Force Search)**\n",
        "*Linear search is a straightforward searching algorithm that checks each element of a list (or array) one by one to find a target value. It is simple and doesn't require any sorting. The algorithm compares the target value with each element of the array sequentially until it either finds a match or reaches the end of the array.*"
      ],
      "metadata": {
        "id": "uKT9QWqduBpG"
      }
    },
    {
      "cell_type": "code",
      "execution_count": 12,
      "metadata": {
        "id": "rCjFRjbHqsa9"
      },
      "outputs": [],
      "source": [
        "def linear_search(arr, value):\n",
        "\n",
        "  for i in range(len(arr)):\n",
        "\n",
        "    if arr[i] == value:\n",
        "      return f'{value} Found at {i} position'\n",
        "\n",
        "  return f'{value} Not Found'"
      ]
    },
    {
      "cell_type": "code",
      "source": [
        "list = [23,45,67,89,12,56,10,21,78]\n",
        "\n",
        "linear_search(list, 89)"
      ],
      "metadata": {
        "colab": {
          "base_uri": "https://localhost:8080/",
          "height": 36
        },
        "id": "sKiBBbW4sShk",
        "outputId": "2ca3d4a0-6727-42fd-8cc1-ad6720fe3ccf"
      },
      "execution_count": 13,
      "outputs": [
        {
          "output_type": "execute_result",
          "data": {
            "text/plain": [
              "'89 Found at 3 position'"
            ],
            "application/vnd.google.colaboratory.intrinsic+json": {
              "type": "string"
            }
          },
          "metadata": {},
          "execution_count": 13
        }
      ]
    },
    {
      "cell_type": "code",
      "source": [
        "linear_search(list, 34)"
      ],
      "metadata": {
        "colab": {
          "base_uri": "https://localhost:8080/",
          "height": 36
        },
        "id": "ChZh7t1mt2jC",
        "outputId": "a66a545f-c664-4c63-d4dc-f4cc122d5184"
      },
      "execution_count": 11,
      "outputs": [
        {
          "output_type": "execute_result",
          "data": {
            "text/plain": [
              "'34 Not Found'"
            ],
            "application/vnd.google.colaboratory.intrinsic+json": {
              "type": "string"
            }
          },
          "metadata": {},
          "execution_count": 11
        }
      ]
    }
  ]
}