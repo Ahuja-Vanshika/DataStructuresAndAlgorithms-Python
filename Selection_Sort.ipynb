{
  "nbformat": 4,
  "nbformat_minor": 0,
  "metadata": {
    "colab": {
      "provenance": []
    },
    "kernelspec": {
      "name": "python3",
      "display_name": "Python 3"
    },
    "language_info": {
      "name": "python"
    }
  },
  "cells": [
    {
      "cell_type": "markdown",
      "source": [
        "# **Selection Sort**\n",
        "\n",
        "*The code implements the selection sort algorithm, which sorts an array by repeatedly **finding the minimum element** from the **unsorted** portion and **swapping it** with the first element of that section. In each pass, the algorithm selects the smallest element and places it in its correct position. This process continues until the entire array is sorted.\n",
        "\n",
        "Time complexity = O(n²).*"
      ],
      "metadata": {
        "id": "LUQWT6GrCe5_"
      }
    },
    {
      "cell_type": "code",
      "execution_count": 6,
      "metadata": {
        "id": "mYPSZA5g8DVV"
      },
      "outputs": [],
      "source": [
        "def selection_sort(arr):\n",
        "\n",
        "  for i in range(len(arr) - 1):\n",
        "\n",
        "    min = i\n",
        "    for j in range(i + 1, len(arr)):\n",
        "\n",
        "      if arr[j] < arr[min]:\n",
        "        min = j\n",
        "\n",
        "    arr[i], arr[min] = arr[min], arr[i]\n",
        "\n",
        "  print(arr)"
      ]
    },
    {
      "cell_type": "code",
      "source": [
        "list = [14,17,9,8,2,32,26,11]\n",
        "\n",
        "selection_sort(list)"
      ],
      "metadata": {
        "colab": {
          "base_uri": "https://localhost:8080/"
        },
        "id": "69yutvbsBH-6",
        "outputId": "306d83ef-19cd-4218-d26b-790b5d3d7034"
      },
      "execution_count": 7,
      "outputs": [
        {
          "output_type": "stream",
          "name": "stdout",
          "text": [
            "[2, 8, 9, 11, 14, 17, 26, 32]\n"
          ]
        }
      ]
    }
  ]
}