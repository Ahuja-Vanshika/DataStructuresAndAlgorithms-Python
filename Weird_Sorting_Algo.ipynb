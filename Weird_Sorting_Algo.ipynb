{
  "nbformat": 4,
  "nbformat_minor": 0,
  "metadata": {
    "colab": {
      "provenance": []
    },
    "kernelspec": {
      "name": "python3",
      "display_name": "Python 3"
    },
    "language_info": {
      "name": "python"
    }
  },
  "cells": [
    {
      "cell_type": "markdown",
      "source": [
        "# **Monkey Sort algorithm**\n",
        "\n",
        "*A **humorous and inefficient** way to sort an array. The **is_sorted(arr)** function checks if the array is sorted by comparing each element. The **monkey_sort(arr)** function randomly shuffles the array until it becomes sorted. It pauses for one second between shuffles to let users enjoy watching the chaotic sorting process. Although it’s not practical for real sorting, Monkey Sort illustrates a fun approach to the concept.*\n",
        "\n",
        "\n",
        "\n",
        "\n",
        "\n",
        "\n"
      ],
      "metadata": {
        "id": "URRJ2BvYTIsH"
      }
    },
    {
      "cell_type": "code",
      "source": [
        "# to check if the array or list is sorted or not\n",
        "\n",
        "def is_sorted(arr):\n",
        "\n",
        "  sorted = True\n",
        "\n",
        "  for i in range(len(arr) - 1):\n",
        "\n",
        "    if arr[i] > arr[i + 1]:\n",
        "      sorted = False\n",
        "\n",
        "  return sorted"
      ],
      "metadata": {
        "id": "yu1qH6JgP46L"
      },
      "execution_count": 1,
      "outputs": []
    },
    {
      "cell_type": "code",
      "execution_count": 2,
      "metadata": {
        "id": "JZldWeBs-tvq"
      },
      "outputs": [],
      "source": [
        "# Monkey Sort\n",
        "\n",
        "import random\n",
        "import time\n",
        "\n",
        "def monkey_sort(arr):\n",
        "\n",
        "  while not is_sorted(arr):\n",
        "    time.sleep(1)           # to enjoy the output process\n",
        "    random.shuffle(arr)\n",
        "    print(arr)\n",
        "  print(arr)"
      ]
    },
    {
      "cell_type": "code",
      "source": [
        "list = [34,12,11,20,56,24]\n",
        "monkey_sort(list)"
      ],
      "metadata": {
        "colab": {
          "base_uri": "https://localhost:8080/"
        },
        "id": "UEJ6xmDRQa6i",
        "outputId": "27326349-bce9-4c2a-c84f-ca1dc054e58e"
      },
      "execution_count": 5,
      "outputs": [
        {
          "output_type": "stream",
          "name": "stdout",
          "text": [
            "[34, 56, 12, 20, 24, 11]\n",
            "[56, 24, 20, 34, 12, 11]\n",
            "[34, 24, 11, 12, 56, 20]\n",
            "[24, 20, 12, 11, 34, 56]\n",
            "[34, 12, 20, 24, 11, 56]\n",
            "[56, 11, 34, 24, 12, 20]\n",
            "[56, 12, 11, 20, 34, 24]\n",
            "[56, 24, 11, 12, 34, 20]\n",
            "[12, 34, 20, 24, 11, 56]\n",
            "[11, 56, 24, 34, 12, 20]\n",
            "[56, 20, 34, 24, 12, 11]\n",
            "[12, 20, 56, 11, 24, 34]\n",
            "[56, 12, 24, 20, 11, 34]\n",
            "[34, 56, 12, 11, 20, 24]\n",
            "[11, 24, 34, 12, 20, 56]\n",
            "[11, 34, 20, 24, 12, 56]\n",
            "[12, 56, 34, 11, 24, 20]\n",
            "[34, 24, 56, 20, 12, 11]\n",
            "[34, 12, 56, 20, 24, 11]\n",
            "[34, 24, 56, 11, 20, 12]\n",
            "[20, 11, 34, 24, 12, 56]\n",
            "[56, 20, 24, 11, 12, 34]\n",
            "[34, 56, 20, 24, 11, 12]\n",
            "[56, 20, 11, 12, 24, 34]\n",
            "[12, 34, 56, 20, 24, 11]\n",
            "[24, 11, 12, 34, 56, 20]\n",
            "[34, 24, 56, 20, 11, 12]\n",
            "[11, 56, 24, 12, 34, 20]\n",
            "[20, 56, 34, 11, 12, 24]\n",
            "[11, 12, 20, 24, 34, 56]\n",
            "[11, 12, 20, 24, 34, 56]\n"
          ]
        }
      ]
    },
    {
      "cell_type": "markdown",
      "source": [
        "# **Sleep Sort Algorithm** also known as King Of Laziness\n",
        "*The code implements a Sleep Sort algorithm, where **each number** in the array **\"sleeps\"** for a duration equal to its value before being printed. Smaller numbers sleep for less time, so they are printed first. The name \"Sleep Sort\" comes from this concept of using sleep durations to determine the order of output.*"
      ],
      "metadata": {
        "id": "OaeNJbK-WIB0"
      }
    },
    {
      "cell_type": "code",
      "source": [
        "import time\n",
        "import threading\n",
        "\n",
        "def sleep_sort(arr):\n",
        "    def sleep_and_print(item):\n",
        "        time.sleep(item)\n",
        "        print(item, end=' ')\n",
        "\n",
        "    threads = []\n",
        "\n",
        "    for num in arr:\n",
        "        thread = threading.Thread(target=sleep_and_print, args=(num,))\n",
        "        threads.append(thread)\n",
        "        thread.start()\n",
        "\n",
        "    for thread in threads:\n",
        "        thread.join()\n"
      ],
      "metadata": {
        "id": "pZparcxETvgT"
      },
      "execution_count": 8,
      "outputs": []
    },
    {
      "cell_type": "code",
      "source": [
        "list = [2,5,4,6]\n",
        "sleep_sort(list)"
      ],
      "metadata": {
        "colab": {
          "base_uri": "https://localhost:8080/"
        },
        "id": "Iz7lpytZUGVh",
        "outputId": "86e0251a-3a2c-4c24-e8bb-44b4bdd1c712"
      },
      "execution_count": 9,
      "outputs": [
        {
          "output_type": "stream",
          "name": "stdout",
          "text": [
            "2 4 5 6 "
          ]
        }
      ]
    }
  ]
}