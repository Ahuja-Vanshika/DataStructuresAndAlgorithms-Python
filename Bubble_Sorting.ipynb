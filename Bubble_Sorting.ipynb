{
  "nbformat": 4,
  "nbformat_minor": 0,
  "metadata": {
    "colab": {
      "provenance": []
    },
    "kernelspec": {
      "name": "python3",
      "display_name": "Python 3"
    },
    "language_info": {
      "name": "python"
    }
  },
  "cells": [
    {
      "cell_type": "markdown",
      "source": [
        "# **Bubble Sort**\n",
        "The code implements the bubble sort algorithm, which sorts an array by repeatedly **comparing adjacent elements** and **swapping them** if they are in the wrong order. By incorporating a flag variable to track whether any swaps occurred during a pass, the algorithm **becomes adaptive**; if no swaps are made, it terminates early, indicating that the array is already sorted.\n",
        "\n",
        "Time complexity = O(n²)"
      ],
      "metadata": {
        "id": "s19B2gg9oOMc"
      }
    },
    {
      "cell_type": "code",
      "execution_count": 1,
      "metadata": {
        "id": "iK1XbLpEm2NM"
      },
      "outputs": [],
      "source": [
        "def bubble_sort(arr):\n",
        "\n",
        "  for i in range(len(arr) - 1):\n",
        "    flag = 0\n",
        "\n",
        "    for j in range(len(arr) - 1 - i):\n",
        "\n",
        "      if arr[j] > arr[j + 1]:\n",
        "        arr[j], arr[j+1] = arr[j+1], arr[j]\n",
        "        flag = 1\n",
        "\n",
        "    if flag == 0:\n",
        "      break\n",
        "\n",
        "  print(arr)"
      ]
    },
    {
      "cell_type": "code",
      "source": [
        "arr = [12,31,45,67,89,26,7]\n",
        "\n",
        "bubble_sort(arr)"
      ],
      "metadata": {
        "colab": {
          "base_uri": "https://localhost:8080/"
        },
        "id": "jZrnfGJKnUQ4",
        "outputId": "7593e986-ffa9-4ca4-f808-df971cf5323f"
      },
      "execution_count": 2,
      "outputs": [
        {
          "output_type": "stream",
          "name": "stdout",
          "text": [
            "[7, 12, 26, 31, 45, 67, 89]\n"
          ]
        }
      ]
    }
  ]
}