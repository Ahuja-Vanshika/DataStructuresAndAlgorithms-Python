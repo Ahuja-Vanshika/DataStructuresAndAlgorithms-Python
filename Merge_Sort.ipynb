{
  "nbformat": 4,
  "nbformat_minor": 0,
  "metadata": {
    "colab": {
      "provenance": []
    },
    "kernelspec": {
      "name": "python3",
      "display_name": "Python 3"
    },
    "language_info": {
      "name": "python"
    }
  },
  "cells": [
    {
      "cell_type": "markdown",
      "source": [
        "# **Merge Sort**\n",
        "*The provided code uses the **divide and conquer** approach to sort an array. The array is recursively divided into two halves until each half contains only a single element (the base case). The two sorted halves are then merged together using the merge_sorted function, which combines them in sorted order. The divide-and-conquer strategy ensures that the problem is broken down into smaller, manageable subproblems, which are easier to solve. Merge sort has a time complexity of **O(n log n)**, making it more efficient than algorithms like bubble sort for larger datasets.*"
      ],
      "metadata": {
        "id": "ztTlQVB3_rBm"
      }
    },
    {
      "cell_type": "code",
      "source": [],
      "metadata": {
        "id": "2yQI6l-s_-YV"
      },
      "execution_count": null,
      "outputs": []
    },
    {
      "cell_type": "code",
      "execution_count": 1,
      "metadata": {
        "id": "pgcqZ0KBGQHZ"
      },
      "outputs": [],
      "source": [
        "def merge_sort(arr):\n",
        "\n",
        "    if len(arr) <= 1:\n",
        "        return arr\n",
        "\n",
        "    mid = len(arr) // 2\n",
        "\n",
        "    left = arr[:mid]\n",
        "    right = arr[mid:]\n",
        "\n",
        "    left = merge_sort(left)\n",
        "    right = merge_sort(right)\n",
        "\n",
        "    return merge_sorted(left, right)"
      ]
    },
    {
      "cell_type": "code",
      "source": [
        "def merge_sorted(arr1, arr2):\n",
        "    i = j = 0\n",
        "    merged = []\n",
        "\n",
        "    while i < len(arr1) and j < len(arr2):\n",
        "\n",
        "        if arr1[i] < arr2[j]:\n",
        "            merged.append(arr1[i])\n",
        "            i += 1\n",
        "        else:\n",
        "            merged.append(arr2[j])\n",
        "            j += 1\n",
        "\n",
        "    while i < len(arr1):\n",
        "        merged.append(arr1[i])\n",
        "        i += 1\n",
        "\n",
        "    while j < len(arr2):\n",
        "        merged.append(arr2[j])\n",
        "        j += 1\n",
        "\n",
        "    return merged"
      ],
      "metadata": {
        "id": "ArcltYbtL0pS"
      },
      "execution_count": 2,
      "outputs": []
    },
    {
      "cell_type": "code",
      "source": [
        "list = [19,23,7,9,45,28,31,87,56]\n",
        "\n",
        "print(merge_sort(list))"
      ],
      "metadata": {
        "colab": {
          "base_uri": "https://localhost:8080/"
        },
        "id": "E-USPLTwf_XL",
        "outputId": "f88b1aeb-2aca-489a-e036-139dbb6aee98"
      },
      "execution_count": 3,
      "outputs": [
        {
          "output_type": "stream",
          "name": "stdout",
          "text": [
            "[7, 9, 19, 23, 28, 31, 45, 56, 87]\n"
          ]
        }
      ]
    }
  ]
}